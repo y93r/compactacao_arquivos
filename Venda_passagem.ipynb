{
 "cells": [
  {
   "cell_type": "markdown",
   "id": "efb1b86a",
   "metadata": {},
   "source": [
    "# Projeto de Conclusão de Curso\n",
    "\n",
    "Projeto desenvolvido para conclusão do curso Formação Power BI pela escola [Cubo Três](https://app.escoladedados.com/trilhas), ministrada pelo [Laennder Alves](https://www.linkedin.com/in/laennder/).\n",
    "\n",
    "O [João Oliveira](https://www.linkedin.com/in/joaomdeoliveira/) nos desafiou a postar em formato de artigo.\n",
    "\n",
    "Neste projeto, será abordado:\n",
    "\n",
    "- A compactação de arquivos grandes para um melhor desempenho do Power BI\n",
    "- Análise de dados para identificar padrões.\n",
    "\n",
    "\n",
    "**Nota:** Os dados utilizados neste notebook foram retirados do [Kaggle](https://www.kaggle.com/datasets/danlessa/brazil-interstate-bus-travels%EF%BF%BC)\n",
    "\n",
    "**Por:** [Yara Rufino](https://www.linkedin.com/in/yara-de-oliveira-rufino/)"
   ]
  },
  {
   "cell_type": "code",
   "execution_count": 9,
   "id": "83be6361",
   "metadata": {},
   "outputs": [],
   "source": [
    "#Versão das bibliotecas instaladas\n",
    "\n",
    "#!pip install polars\n",
    "#!pip show polars\n",
    "#import sys\n",
    "#print(sys.version)"
   ]
  },
  {
   "cell_type": "code",
   "execution_count": 11,
   "id": "f5af566e",
   "metadata": {},
   "outputs": [
    {
     "name": "stdout",
     "output_type": "stream",
     "text": [
      "Versão do Python: 3.11.5\n",
      "Versão do Jupyter Notebook:  5.3.0\n"
     ]
    }
   ],
   "source": [
    "#Versão da Linguagem Python\n",
    "from platform import python_version\n",
    "import jupyter_core\n",
    "\n",
    "print('Versão do Python:', python_version())\n",
    "print('Versão do Jupyter Notebook: ',jupyter_core.__version__)"
   ]
  },
  {
   "cell_type": "markdown",
   "id": "f25f8897",
   "metadata": {},
   "source": [
    "##  <font color=red> 1. Carregar dados\n",
    "\n",
    " Mostrar todos os arquivos simultaneamente "
   ]
  },
  {
   "cell_type": "code",
   "execution_count": 1,
   "id": "f992c723",
   "metadata": {},
   "outputs": [],
   "source": [
    "#Bibliotecas\n",
    "import polars as pl\n",
    "import os"
   ]
  },
  {
   "cell_type": "code",
   "execution_count": 5,
   "id": "84ca0c7c",
   "metadata": {},
   "outputs": [
    {
     "name": "stdout",
     "output_type": "stream",
     "text": [
      "C:\\Users\\Usuário\\Documents\\Cursos\\Escola de Dados\\Formação PBI\\Mod8\\venda_passagem_01_2020\\venda_passagem_01_2020.csv\n",
      "C:\\Users\\Usuário\\Documents\\Cursos\\Escola de Dados\\Formação PBI\\Mod8\\venda_passagem_03_2019\\venda_passagem_03_2019.csv\n",
      "C:\\Users\\Usuário\\Documents\\Cursos\\Escola de Dados\\Formação PBI\\Mod8\\venda_passagem_11_2019\\venda_passagem_11_2019.csv\n",
      "C:\\Users\\Usuário\\Documents\\Cursos\\Escola de Dados\\Formação PBI\\Mod8\\venda_passagem_12_2019\\venda_passagem_12_2019.csv\n"
     ]
    }
   ],
   "source": [
    "#Especificar o diretório onde os arquivos estão\n",
    "diretorio_raiz = r'C:\\Users\\Usuário\\Documents\\Cursos\\Escola de Dados\\Formação PBI\\Mod8'\n",
    "\n",
    "#Lista para armazenar os caminhos dos arquivos CSV encontrados\n",
    "arquivos_csv = []\n",
    "\n",
    "#Percorrer o diretório raiz e subdiretórios procurando por arquivos CSV\n",
    "for pasta_raiz, subpastas, arquivos in os.walk(diretorio_raiz):\n",
    "    for arquivo in arquivos:\n",
    "        if arquivo.endswith('.csv'):\n",
    "            caminho_completo = os.path.join(pasta_raiz, arquivo)\n",
    "            arquivos_csv.append(caminho_completo)\n",
    "\n",
    "#Arquivos CSV encontrados\n",
    "for arquivo_csv in arquivos_csv:\n",
    "    print(arquivo_csv)"
   ]
  },
  {
   "cell_type": "code",
   "execution_count": 6,
   "id": "5095fff2",
   "metadata": {},
   "outputs": [
    {
     "name": "stdout",
     "output_type": "stream",
     "text": [
      "[shape: (3_030_932, 26)\n",
      "┌──────────────┬──────────────┬──────────────┬─────────────┬───┬─────────────┬─────────────┬─────────────┬─────────────┐\n",
      "│ codigo_viage ┆ cnpj         ┆ numero_equip ┆ numero_bilh ┆ … ┆ valor_taxa_ ┆ valor_total ┆ origem_emis ┆ in_passagem │\n",
      "│ m            ┆ ---          ┆ amento_fisca ┆ ete         ┆   ┆ embarque    ┆ ---         ┆ sao         ┆ _cancelada  │\n",
      "│ ---          ┆ i64          ┆ l            ┆ ---         ┆   ┆ ---         ┆ f64         ┆ ---         ┆ ---         │\n",
      "│ i64          ┆              ┆ ---          ┆ i64         ┆   ┆ f64         ┆             ┆ str         ┆ str         │\n",
      "│              ┆              ┆ str          ┆             ┆   ┆             ┆             ┆             ┆             │\n",
      "╞══════════════╪══════════════╪══════════════╪═════════════╪═══╪═════════════╪═════════════╪═════════════╪═════════════╡\n",
      "│ 2486967      ┆ 300693140001 ┆ 351912300693 ┆ 370123      ┆ … ┆ 6.39        ┆ 123.99      ┆ Não Se      ┆ NÃO         │\n",
      "│              ┆ 01           ┆ 14002821     ┆             ┆   ┆             ┆             ┆ Aplica      ┆             │\n",
      "│ 2514696      ┆ 300693140001 ┆ 352001300693 ┆ 467165      ┆ … ┆ 6.39        ┆ 127.9       ┆ Não Se      ┆ NÃO         │\n",
      "│              ┆ 01           ┆ 14002821     ┆             ┆   ┆             ┆             ┆ Aplica      ┆             │\n",
      "│ 2487811      ┆ 300693140001 ┆ 352001300693 ┆ 466270      ┆ … ┆ 6.39        ┆ 127.9       ┆ Não Se      ┆ NÃO         │\n",
      "│              ┆ 01           ┆ 14002821     ┆             ┆   ┆             ┆             ┆ Aplica      ┆             │\n",
      "│ 2515155      ┆ 300693140001 ┆ 352001300693 ┆ 474390      ┆ … ┆ 6.39        ┆ 127.9       ┆ Não Se      ┆ NÃO         │\n",
      "│              ┆ 01           ┆ 14002821     ┆             ┆   ┆             ┆             ┆ Aplica      ┆             │\n",
      "│ 2452546      ┆ 300693140001 ┆ 351912300693 ┆ 433210      ┆ … ┆ 6.39        ┆ 123.99      ┆ Não Se      ┆ NÃO         │\n",
      "│              ┆ 01           ┆ 14002821     ┆             ┆   ┆             ┆             ┆ Aplica      ┆             │\n",
      "│ …            ┆ …            ┆ …            ┆ …           ┆ … ┆ …           ┆ …           ┆ …           ┆ …           │\n",
      "│ 2548156      ┆ 599650380001 ┆ 522001599650 ┆ 15979       ┆ … ┆ 0.0         ┆ 37.66       ┆ Não Se      ┆ NÃO         │\n",
      "│              ┆ 41           ┆ 38000303     ┆             ┆   ┆             ┆             ┆ Aplica      ┆             │\n",
      "│ 2548156      ┆ 599650380001 ┆ 522001599650 ┆ 16165       ┆ … ┆ 0.0         ┆ 37.66       ┆ Não Se      ┆ NÃO         │\n",
      "│              ┆ 41           ┆ 38000303     ┆             ┆   ┆             ┆             ┆ Aplica      ┆             │\n",
      "│ 2519721      ┆ 599650380001 ┆ 522001599650 ┆ 16130       ┆ … ┆ 0.0         ┆ 0.0         ┆ Não Se      ┆ NÃO         │\n",
      "│              ┆ 41           ┆ 38000303     ┆             ┆   ┆             ┆             ┆ Aplica      ┆             │\n",
      "│ 2519730      ┆ 599650380001 ┆ 512001599650 ┆ 565405      ┆ … ┆ 6.19        ┆ 331.0       ┆ Não Se      ┆ NÃO         │\n",
      "│              ┆ 41           ┆ 38000494     ┆             ┆   ┆             ┆             ┆ Aplica      ┆             │\n",
      "│ 2556741      ┆ 955920770001 ┆ 522001955920 ┆ 20468       ┆ … ┆ 3.98        ┆ 182.23      ┆ Não Se      ┆ NÃO         │\n",
      "│              ┆ 04           ┆ 77001003     ┆             ┆   ┆             ┆             ┆ Aplica      ┆             │\n",
      "└──────────────┴──────────────┴──────────────┴─────────────┴───┴─────────────┴─────────────┴─────────────┴─────────────┘, shape: (1_372_221, 26)\n",
      "┌──────────────┬──────────────┬──────────────┬─────────────┬───┬─────────────┬─────────────┬─────────────┬─────────────┐\n",
      "│ codigo_viage ┆ cnpj         ┆ numero_equip ┆ numero_bilh ┆ … ┆ valor_taxa_ ┆ valor_total ┆ origem_emis ┆ in_passagem │\n",
      "│ m            ┆ ---          ┆ amento_fisca ┆ ete         ┆   ┆ embarque    ┆ ---         ┆ sao         ┆ _cancelada  │\n",
      "│ ---          ┆ i64          ┆ l            ┆ ---         ┆   ┆ ---         ┆ f64         ┆ ---         ┆ ---         │\n",
      "│ i64          ┆              ┆ ---          ┆ i64         ┆   ┆ f64         ┆             ┆ str         ┆ str         │\n",
      "│              ┆              ┆ str          ┆             ┆   ┆             ┆             ┆             ┆             │\n",
      "╞══════════════╪══════════════╪══════════════╪═════════════╪═══╪═════════════╪═════════════╪═════════════╪═════════════╡\n",
      "│ 1512461      ┆ 826478840001 ┆ 000013       ┆ 36858       ┆ … ┆ 2.5         ┆ 229.9       ┆ Não Se      ┆ NÃO         │\n",
      "│              ┆ 35           ┆              ┆             ┆   ┆             ┆             ┆ Aplica      ┆             │\n",
      "│ 1468989      ┆ 826478840001 ┆ 000013       ┆ 999073      ┆ … ┆ 5.3         ┆ 141.0       ┆ Não Se      ┆ NÃO         │\n",
      "│              ┆ 35           ┆              ┆             ┆   ┆             ┆             ┆ Aplica      ┆             │\n",
      "│ 1446692      ┆ 826478840001 ┆ 000013       ┆ 734783      ┆ … ┆ 2.5         ┆ 96.77       ┆ Não Se      ┆ NÃO         │\n",
      "│              ┆ 35           ┆              ┆             ┆   ┆             ┆             ┆ Aplica      ┆             │\n",
      "│ 1469107      ┆ 826478840001 ┆ 000013       ┆ 590998      ┆ … ┆ 2.5         ┆ 109.43      ┆ Não Se      ┆ NÃO         │\n",
      "│              ┆ 35           ┆              ┆             ┆   ┆             ┆             ┆ Aplica      ┆             │\n",
      "│ 1446171      ┆ 826478840001 ┆ 000013       ┆ 585349      ┆ … ┆ 2.0         ┆ 103.06      ┆ Não Se      ┆ NÃO         │\n",
      "│              ┆ 35           ┆              ┆             ┆   ┆             ┆             ┆ Aplica      ┆             │\n",
      "│ …            ┆ …            ┆ …            ┆ …           ┆ … ┆ …           ┆ …           ┆ …           ┆ …           │\n",
      "│ 1486708      ┆ 615635570001 ┆ 000013       ┆ 337980      ┆ … ┆ 6.59        ┆ 52.6        ┆ Não Se      ┆ NÃO         │\n",
      "│              ┆ 25           ┆              ┆             ┆   ┆             ┆             ┆ Aplica      ┆             │\n",
      "│ 1508460      ┆ 615635570001 ┆ 000013       ┆ 230765      ┆ … ┆ 6.59        ┆ 52.6        ┆ Não Se      ┆ NÃO         │\n",
      "│              ┆ 25           ┆              ┆             ┆   ┆             ┆             ┆ Aplica      ┆             │\n",
      "│ 1443204      ┆ 610840180001 ┆ 000013       ┆ 521739      ┆ … ┆ 5.96        ┆ 123.37      ┆ Não Se      ┆ NÃO         │\n",
      "│              ┆ 03           ┆              ┆             ┆   ┆             ┆             ┆ Aplica      ┆             │\n",
      "│ 1442508      ┆ 610840180001 ┆ 000013       ┆ 11989       ┆ … ┆ 0.0         ┆ 0.0         ┆ Não Se      ┆ NÃO         │\n",
      "│              ┆ 03           ┆              ┆             ┆   ┆             ┆             ┆ Aplica      ┆             │\n",
      "│ 1413852      ┆ 235425730001 ┆ 273322       ┆ 7053        ┆ … ┆ 5.45        ┆ 103.55      ┆ Presencial  ┆ NÃO         │\n",
      "│              ┆ 42           ┆              ┆             ┆   ┆             ┆             ┆             ┆             │\n",
      "└──────────────┴──────────────┴──────────────┴─────────────┴───┴─────────────┴─────────────┴─────────────┴─────────────┘, shape: (1_651_847, 26)\n",
      "┌──────────────┬──────────────┬──────────────┬─────────────┬───┬─────────────┬─────────────┬─────────────┬─────────────┐\n",
      "│ codigo_viage ┆ cnpj         ┆ numero_equip ┆ numero_bilh ┆ … ┆ valor_taxa_ ┆ valor_total ┆ origem_emis ┆ in_passagem │\n",
      "│ m            ┆ ---          ┆ amento_fisca ┆ ete         ┆   ┆ embarque    ┆ ---         ┆ sao         ┆ _cancelada  │\n",
      "│ ---          ┆ i64          ┆ l            ┆ ---         ┆   ┆ ---         ┆ f64         ┆ ---         ┆ ---         │\n",
      "│ i64          ┆              ┆ ---          ┆ i64         ┆   ┆ f64         ┆             ┆ str         ┆ str         │\n",
      "│              ┆              ┆ str          ┆             ┆   ┆             ┆             ┆             ┆             │\n",
      "╞══════════════╪══════════════╪══════════════╪═════════════╪═══╪═════════════╪═════════════╪═════════════╪═════════════╡\n",
      "│ 2271493      ┆ 607656330001 ┆ 351911607656 ┆ 158445      ┆ … ┆ 6.39        ┆ 123.89      ┆ Não Se      ┆ NÃO         │\n",
      "│              ┆ 12           ┆ 33000112     ┆             ┆   ┆             ┆             ┆ Aplica      ┆             │\n",
      "│ 2260433      ┆ 607656330001 ┆ 351911607656 ┆ 151911      ┆ … ┆ 6.39        ┆ 129.9       ┆ Não Se      ┆ NÃO         │\n",
      "│              ┆ 12           ┆ 33000112     ┆             ┆   ┆             ┆             ┆ Aplica      ┆             │\n",
      "│ 2260452      ┆ 607656330001 ┆ 351911607656 ┆ 151445      ┆ … ┆ 6.39        ┆ 128.9       ┆ Não Se      ┆ NÃO         │\n",
      "│              ┆ 12           ┆ 33000112     ┆             ┆   ┆             ┆             ┆ Aplica      ┆             │\n",
      "│ 2271379      ┆ 607656330001 ┆ 351911607656 ┆ 156949      ┆ … ┆ 6.39        ┆ 123.89      ┆ Não Se      ┆ NÃO         │\n",
      "│              ┆ 12           ┆ 33000112     ┆             ┆   ┆             ┆             ┆ Aplica      ┆             │\n",
      "│ 2308681      ┆ 607656330001 ┆ 351911607656 ┆ 160835      ┆ … ┆ 6.39        ┆ 113.89      ┆ Não Se      ┆ NÃO         │\n",
      "│              ┆ 12           ┆ 33000112     ┆             ┆   ┆             ┆             ┆ Aplica      ┆             │\n",
      "│ …            ┆ …            ┆ …            ┆ …           ┆ … ┆ …           ┆ …           ┆ …           ┆ …           │\n",
      "│ 2244873      ┆ 156441800019 ┆ 521911015644 ┆ 26467       ┆ … ┆ 3.98        ┆ 49.9        ┆ Não Se      ┆ NÃO         │\n",
      "│              ┆ 4            ┆ 18000194     ┆             ┆   ┆             ┆             ┆ Aplica      ┆             │\n",
      "│ 2237781      ┆ 408064600018 ┆ 351910040806 ┆ 108935      ┆ … ┆ 7.26        ┆ 69.99       ┆ Não Se      ┆ NÃO         │\n",
      "│              ┆ 7            ┆ 46000500     ┆             ┆   ┆             ┆             ┆ Aplica      ┆             │\n",
      "│ 2238756      ┆ 408064600018 ┆ 351911040806 ┆ 121573      ┆ … ┆ 7.26        ┆ 123.85      ┆ Não Se      ┆ NÃO         │\n",
      "│              ┆ 7            ┆ 46000500     ┆             ┆   ┆             ┆             ┆ Aplica      ┆             │\n",
      "│ 2234181      ┆ 156441800019 ┆ 531911015644 ┆ 19545       ┆ … ┆ 0.49        ┆ 49.9        ┆ Não Se      ┆ NÃO         │\n",
      "│              ┆ 4            ┆ 18000437     ┆             ┆   ┆             ┆             ┆ Aplica      ┆             │\n",
      "│ 2244904      ┆ 156441800019 ┆ 531911015644 ┆ 21855       ┆ … ┆ 0.49        ┆ 55.0        ┆ Não Se      ┆ NÃO         │\n",
      "│              ┆ 4            ┆ 18000437     ┆             ┆   ┆             ┆             ┆ Aplica      ┆             │\n",
      "└──────────────┴──────────────┴──────────────┴─────────────┴───┴─────────────┴─────────────┴─────────────┴─────────────┘, shape: (3_011_112, 26)\n",
      "┌──────────────┬──────────────┬──────────────┬─────────────┬───┬─────────────┬─────────────┬─────────────┬─────────────┐\n",
      "│ codigo_viage ┆ cnpj         ┆ numero_equip ┆ numero_bilh ┆ … ┆ valor_taxa_ ┆ valor_total ┆ origem_emis ┆ in_passagem │\n",
      "│ m            ┆ ---          ┆ amento_fisca ┆ ete         ┆   ┆ embarque    ┆ ---         ┆ sao         ┆ _cancelada  │\n",
      "│ ---          ┆ i64          ┆ l            ┆ ---         ┆   ┆ ---         ┆ f64         ┆ ---         ┆ ---         │\n",
      "│ i64          ┆              ┆ ---          ┆ i64         ┆   ┆ f64         ┆             ┆ str         ┆ str         │\n",
      "│              ┆              ┆ str          ┆             ┆   ┆             ┆             ┆             ┆             │\n",
      "╞══════════════╪══════════════╪══════════════╪═════════════╪═══╪═════════════╪═════════════╪═════════════╪═════════════╡\n",
      "│ 2355826      ┆ 300693140001 ┆ 331912300693 ┆ 3683057     ┆ … ┆ 6.14        ┆ 123.99      ┆ Não Se      ┆ NÃO         │\n",
      "│              ┆ 01           ┆ 14000101     ┆             ┆   ┆             ┆             ┆ Aplica      ┆             │\n",
      "│ 2410799      ┆ 300693140001 ┆ 331912300693 ┆ 4111198     ┆ … ┆ 6.14        ┆ 116.0       ┆ Não Se      ┆ NÃO         │\n",
      "│              ┆ 01           ┆ 14000101     ┆             ┆   ┆             ┆             ┆ Aplica      ┆             │\n",
      "│ 2382193      ┆ 300693140001 ┆ 331912300693 ┆ 3758997     ┆ … ┆ 6.14        ┆ 125.99      ┆ Não Se      ┆ NÃO         │\n",
      "│              ┆ 01           ┆ 14000101     ┆             ┆   ┆             ┆             ┆ Aplica      ┆             │\n",
      "│ 2329070      ┆ 300693140001 ┆ 331911300693 ┆ 3288636     ┆ … ┆ 6.14        ┆ 69.0        ┆ Não Se      ┆ NÃO         │\n",
      "│              ┆ 01           ┆ 14000101     ┆             ┆   ┆             ┆             ┆ Aplica      ┆             │\n",
      "│ 2335327      ┆ 610840180001 ┆ 311912610840 ┆ 395145      ┆ … ┆ 5.25        ┆ 175.99      ┆ Não Se      ┆ NÃO         │\n",
      "│              ┆ 03           ┆ 18004877     ┆             ┆   ┆             ┆             ┆ Aplica      ┆             │\n",
      "│ …            ┆ …            ┆ …            ┆ …           ┆ … ┆ …           ┆ …           ┆ …           ┆ …           │\n",
      "│ 2318211      ┆ 156441800019 ┆ 521912015644 ┆ 31110       ┆ … ┆ 3.98        ┆ 55.0        ┆ Não Se      ┆ NÃO         │\n",
      "│              ┆ 4            ┆ 18000194     ┆             ┆   ┆             ┆             ┆ Aplica      ┆             │\n",
      "│ 2343521      ┆ 156441800019 ┆ 521912015644 ┆ 32315       ┆ … ┆ 3.98        ┆ 55.0        ┆ Não Se      ┆ NÃO         │\n",
      "│              ┆ 4            ┆ 18000194     ┆             ┆   ┆             ┆             ┆ Aplica      ┆             │\n",
      "│ 2318190      ┆ 156441800019 ┆ 521912015644 ┆ 30663       ┆ … ┆ 3.98        ┆ 55.0        ┆ Não Se      ┆ NÃO         │\n",
      "│              ┆ 4            ┆ 18000194     ┆             ┆   ┆             ┆             ┆ Aplica      ┆             │\n",
      "│ 2318185      ┆ 156441800019 ┆ 521912015644 ┆ 30409       ┆ … ┆ 3.98        ┆ 55.0        ┆ Não Se      ┆ NÃO         │\n",
      "│              ┆ 4            ┆ 18000194     ┆             ┆   ┆             ┆             ┆ Aplica      ┆             │\n",
      "│ 2318212      ┆ 156441800019 ┆ 521912015644 ┆ 31110       ┆ … ┆ 3.98        ┆ 55.0        ┆ Não Se      ┆ NÃO         │\n",
      "│              ┆ 4            ┆ 18000194     ┆             ┆   ┆             ┆             ┆ Aplica      ┆             │\n",
      "└──────────────┴──────────────┴──────────────┴─────────────┴───┴─────────────┴─────────────┴─────────────┴─────────────┘]\n"
     ]
    }
   ],
   "source": [
    "#Criar uma lista para armazenar os DataFrames de cada arquivo\n",
    "dfs = []\n",
    "chunk_size = 100000 #parte do arq que é processada por vez\n",
    "\n",
    "#Loop pelos arquivos e ler cada um em um DataFrame\n",
    "for arquivo_csv in arquivos_csv:\n",
    "    #Ler o arquivo CSV usando o Polars\n",
    "    dtypes = {\"valor_percentual_desconto\": str} #converter em string pois como int ele apresenta erro\n",
    "    df = pl.read_csv(arquivo_csv, has_header=True, schema=None, truncate_ragged_lines=True, separator=';', dtypes=dtypes,\n",
    "                     batch_size=chunk_size, infer_schema_length=100000, encoding='latin-1')\n",
    "\n",
    "    dfs.append(df)\n",
    "\n",
    "#Exibindo todos os dataframes\n",
    "print(dfs)"
   ]
  },
  {
   "cell_type": "code",
   "execution_count": 7,
   "id": "e9eb0873",
   "metadata": {},
   "outputs": [
    {
     "name": "stdout",
     "output_type": "stream",
     "text": [
      "CPU times: total: 23.3 s\n",
      "Wall time: 21 s\n"
     ]
    }
   ],
   "source": [
    "#Tempo de execução\n",
    "%time dfs = pl.read_csv(caminho_completo, separator=';', ignore_errors = True, schema=None, truncate_ragged_lines=True)"
   ]
  },
  {
   "cell_type": "markdown",
   "id": "cbaf0bfb",
   "metadata": {},
   "source": [
    "## <font color=red> 2. Converter no formato parquet\n",
    "Processo de compactção dos arquivos"
   ]
  },
  {
   "cell_type": "code",
   "execution_count": 8,
   "id": "23de4244",
   "metadata": {},
   "outputs": [],
   "source": [
    "#Caminho para o novo diretório onde os arquivos Parquet serão salvos\n",
    "diretorio_parquet = r'C:\\Users\\Usuário\\Documents\\Cursos\\Escola de Dados\\Formação PBI\\Mod8\\Compactado'\n",
    "\n",
    "#Criar o novo diretório se não existir\n",
    "os.makedirs(diretorio_parquet, exist_ok=True)\n",
    "\n",
    "#Loop pelos arquivos csv e convertê-los para Parquet\n",
    "for arquivo_csv in arquivos_csv:\n",
    "    #Ler o arquivo de texto em um DataFrame Polars\n",
    "    dtypes = {\"valor_percentual_desconto\": str}\n",
    "    df = pl.read_csv(arquivo_csv, has_header=True, schema=None, truncate_ragged_lines=True, separator=';', dtypes=dtypes,\n",
    "                     batch_size=chunk_size, infer_schema_length=100000, encoding='latin-1')\n",
    "    #Extrair o nome do arquivo sem a extensão\n",
    "    nome_arquivo = os.path.splitext(os.path.basename(arquivo_csv))[0]\n",
    "    \n",
    "    #Caminho completo para o arquivo Parquet\n",
    "    caminho_arquivo_parquet = os.path.join(diretorio_parquet, f'{nome_arquivo}.parquet')\n",
    "    \n",
    "    #Salvar o DataFrame convertido em Parquet\n",
    "    df.write_parquet(caminho_arquivo_parquet)"
   ]
  },
  {
   "cell_type": "code",
   "execution_count": 9,
   "id": "e2346429",
   "metadata": {},
   "outputs": [
    {
     "name": "stdout",
     "output_type": "stream",
     "text": [
      "['venda_passagem_01_2020.parquet', 'venda_passagem_03_2019.parquet', 'venda_passagem_11_2019.parquet', 'venda_passagem_12_2019.parquet']\n"
     ]
    }
   ],
   "source": [
    "#Conferir se salvou todos os arquivos\n",
    "diretorio_parquet =  r'C:\\Users\\Usuário\\Documents\\Cursos\\Escola de Dados\\Formação PBI\\Mod8\\Compactado'\n",
    "\n",
    "arquivos_pqt = [arquivo for arquivo in os.listdir(diretorio_parquet) if arquivo.endswith('.parquet')]\n",
    "print(arquivos_pqt)"
   ]
  },
  {
   "cell_type": "code",
   "execution_count": 10,
   "id": "fe9e01d3",
   "metadata": {},
   "outputs": [
    {
     "data": {
      "text/plain": [
       "[shape: (3_030_932, 26)\n",
       " ┌──────────────┬──────────────┬──────────────┬─────────────┬───┬─────────────┬─────────────┬─────────────┬─────────────┐\n",
       " │ codigo_viage ┆ cnpj         ┆ numero_equip ┆ numero_bilh ┆ … ┆ valor_taxa_ ┆ valor_total ┆ origem_emis ┆ in_passagem │\n",
       " │ m            ┆ ---          ┆ amento_fisca ┆ ete         ┆   ┆ embarque    ┆ ---         ┆ sao         ┆ _cancelada  │\n",
       " │ ---          ┆ i64          ┆ l            ┆ ---         ┆   ┆ ---         ┆ f64         ┆ ---         ┆ ---         │\n",
       " │ i64          ┆              ┆ ---          ┆ i64         ┆   ┆ f64         ┆             ┆ str         ┆ str         │\n",
       " │              ┆              ┆ str          ┆             ┆   ┆             ┆             ┆             ┆             │\n",
       " ╞══════════════╪══════════════╪══════════════╪═════════════╪═══╪═════════════╪═════════════╪═════════════╪═════════════╡\n",
       " │ 2486967      ┆ 300693140001 ┆ 351912300693 ┆ 370123      ┆ … ┆ 6.39        ┆ 123.99      ┆ Não Se      ┆ NÃO         │\n",
       " │              ┆ 01           ┆ 14002821     ┆             ┆   ┆             ┆             ┆ Aplica      ┆             │\n",
       " │ 2514696      ┆ 300693140001 ┆ 352001300693 ┆ 467165      ┆ … ┆ 6.39        ┆ 127.9       ┆ Não Se      ┆ NÃO         │\n",
       " │              ┆ 01           ┆ 14002821     ┆             ┆   ┆             ┆             ┆ Aplica      ┆             │\n",
       " │ 2487811      ┆ 300693140001 ┆ 352001300693 ┆ 466270      ┆ … ┆ 6.39        ┆ 127.9       ┆ Não Se      ┆ NÃO         │\n",
       " │              ┆ 01           ┆ 14002821     ┆             ┆   ┆             ┆             ┆ Aplica      ┆             │\n",
       " │ 2515155      ┆ 300693140001 ┆ 352001300693 ┆ 474390      ┆ … ┆ 6.39        ┆ 127.9       ┆ Não Se      ┆ NÃO         │\n",
       " │              ┆ 01           ┆ 14002821     ┆             ┆   ┆             ┆             ┆ Aplica      ┆             │\n",
       " │ 2452546      ┆ 300693140001 ┆ 351912300693 ┆ 433210      ┆ … ┆ 6.39        ┆ 123.99      ┆ Não Se      ┆ NÃO         │\n",
       " │              ┆ 01           ┆ 14002821     ┆             ┆   ┆             ┆             ┆ Aplica      ┆             │\n",
       " │ …            ┆ …            ┆ …            ┆ …           ┆ … ┆ …           ┆ …           ┆ …           ┆ …           │\n",
       " │ 2548156      ┆ 599650380001 ┆ 522001599650 ┆ 15979       ┆ … ┆ 0.0         ┆ 37.66       ┆ Não Se      ┆ NÃO         │\n",
       " │              ┆ 41           ┆ 38000303     ┆             ┆   ┆             ┆             ┆ Aplica      ┆             │\n",
       " │ 2548156      ┆ 599650380001 ┆ 522001599650 ┆ 16165       ┆ … ┆ 0.0         ┆ 37.66       ┆ Não Se      ┆ NÃO         │\n",
       " │              ┆ 41           ┆ 38000303     ┆             ┆   ┆             ┆             ┆ Aplica      ┆             │\n",
       " │ 2519721      ┆ 599650380001 ┆ 522001599650 ┆ 16130       ┆ … ┆ 0.0         ┆ 0.0         ┆ Não Se      ┆ NÃO         │\n",
       " │              ┆ 41           ┆ 38000303     ┆             ┆   ┆             ┆             ┆ Aplica      ┆             │\n",
       " │ 2519730      ┆ 599650380001 ┆ 512001599650 ┆ 565405      ┆ … ┆ 6.19        ┆ 331.0       ┆ Não Se      ┆ NÃO         │\n",
       " │              ┆ 41           ┆ 38000494     ┆             ┆   ┆             ┆             ┆ Aplica      ┆             │\n",
       " │ 2556741      ┆ 955920770001 ┆ 522001955920 ┆ 20468       ┆ … ┆ 3.98        ┆ 182.23      ┆ Não Se      ┆ NÃO         │\n",
       " │              ┆ 04           ┆ 77001003     ┆             ┆   ┆             ┆             ┆ Aplica      ┆             │\n",
       " └──────────────┴──────────────┴──────────────┴─────────────┴───┴─────────────┴─────────────┴─────────────┴─────────────┘,\n",
       " shape: (1_372_221, 26)\n",
       " ┌──────────────┬──────────────┬──────────────┬─────────────┬───┬─────────────┬─────────────┬─────────────┬─────────────┐\n",
       " │ codigo_viage ┆ cnpj         ┆ numero_equip ┆ numero_bilh ┆ … ┆ valor_taxa_ ┆ valor_total ┆ origem_emis ┆ in_passagem │\n",
       " │ m            ┆ ---          ┆ amento_fisca ┆ ete         ┆   ┆ embarque    ┆ ---         ┆ sao         ┆ _cancelada  │\n",
       " │ ---          ┆ i64          ┆ l            ┆ ---         ┆   ┆ ---         ┆ f64         ┆ ---         ┆ ---         │\n",
       " │ i64          ┆              ┆ ---          ┆ i64         ┆   ┆ f64         ┆             ┆ str         ┆ str         │\n",
       " │              ┆              ┆ str          ┆             ┆   ┆             ┆             ┆             ┆             │\n",
       " ╞══════════════╪══════════════╪══════════════╪═════════════╪═══╪═════════════╪═════════════╪═════════════╪═════════════╡\n",
       " │ 1512461      ┆ 826478840001 ┆ 000013       ┆ 36858       ┆ … ┆ 2.5         ┆ 229.9       ┆ Não Se      ┆ NÃO         │\n",
       " │              ┆ 35           ┆              ┆             ┆   ┆             ┆             ┆ Aplica      ┆             │\n",
       " │ 1468989      ┆ 826478840001 ┆ 000013       ┆ 999073      ┆ … ┆ 5.3         ┆ 141.0       ┆ Não Se      ┆ NÃO         │\n",
       " │              ┆ 35           ┆              ┆             ┆   ┆             ┆             ┆ Aplica      ┆             │\n",
       " │ 1446692      ┆ 826478840001 ┆ 000013       ┆ 734783      ┆ … ┆ 2.5         ┆ 96.77       ┆ Não Se      ┆ NÃO         │\n",
       " │              ┆ 35           ┆              ┆             ┆   ┆             ┆             ┆ Aplica      ┆             │\n",
       " │ 1469107      ┆ 826478840001 ┆ 000013       ┆ 590998      ┆ … ┆ 2.5         ┆ 109.43      ┆ Não Se      ┆ NÃO         │\n",
       " │              ┆ 35           ┆              ┆             ┆   ┆             ┆             ┆ Aplica      ┆             │\n",
       " │ 1446171      ┆ 826478840001 ┆ 000013       ┆ 585349      ┆ … ┆ 2.0         ┆ 103.06      ┆ Não Se      ┆ NÃO         │\n",
       " │              ┆ 35           ┆              ┆             ┆   ┆             ┆             ┆ Aplica      ┆             │\n",
       " │ …            ┆ …            ┆ …            ┆ …           ┆ … ┆ …           ┆ …           ┆ …           ┆ …           │\n",
       " │ 1486708      ┆ 615635570001 ┆ 000013       ┆ 337980      ┆ … ┆ 6.59        ┆ 52.6        ┆ Não Se      ┆ NÃO         │\n",
       " │              ┆ 25           ┆              ┆             ┆   ┆             ┆             ┆ Aplica      ┆             │\n",
       " │ 1508460      ┆ 615635570001 ┆ 000013       ┆ 230765      ┆ … ┆ 6.59        ┆ 52.6        ┆ Não Se      ┆ NÃO         │\n",
       " │              ┆ 25           ┆              ┆             ┆   ┆             ┆             ┆ Aplica      ┆             │\n",
       " │ 1443204      ┆ 610840180001 ┆ 000013       ┆ 521739      ┆ … ┆ 5.96        ┆ 123.37      ┆ Não Se      ┆ NÃO         │\n",
       " │              ┆ 03           ┆              ┆             ┆   ┆             ┆             ┆ Aplica      ┆             │\n",
       " │ 1442508      ┆ 610840180001 ┆ 000013       ┆ 11989       ┆ … ┆ 0.0         ┆ 0.0         ┆ Não Se      ┆ NÃO         │\n",
       " │              ┆ 03           ┆              ┆             ┆   ┆             ┆             ┆ Aplica      ┆             │\n",
       " │ 1413852      ┆ 235425730001 ┆ 273322       ┆ 7053        ┆ … ┆ 5.45        ┆ 103.55      ┆ Presencial  ┆ NÃO         │\n",
       " │              ┆ 42           ┆              ┆             ┆   ┆             ┆             ┆             ┆             │\n",
       " └──────────────┴──────────────┴──────────────┴─────────────┴───┴─────────────┴─────────────┴─────────────┴─────────────┘,\n",
       " shape: (1_651_847, 26)\n",
       " ┌──────────────┬──────────────┬──────────────┬─────────────┬───┬─────────────┬─────────────┬─────────────┬─────────────┐\n",
       " │ codigo_viage ┆ cnpj         ┆ numero_equip ┆ numero_bilh ┆ … ┆ valor_taxa_ ┆ valor_total ┆ origem_emis ┆ in_passagem │\n",
       " │ m            ┆ ---          ┆ amento_fisca ┆ ete         ┆   ┆ embarque    ┆ ---         ┆ sao         ┆ _cancelada  │\n",
       " │ ---          ┆ i64          ┆ l            ┆ ---         ┆   ┆ ---         ┆ f64         ┆ ---         ┆ ---         │\n",
       " │ i64          ┆              ┆ ---          ┆ i64         ┆   ┆ f64         ┆             ┆ str         ┆ str         │\n",
       " │              ┆              ┆ str          ┆             ┆   ┆             ┆             ┆             ┆             │\n",
       " ╞══════════════╪══════════════╪══════════════╪═════════════╪═══╪═════════════╪═════════════╪═════════════╪═════════════╡\n",
       " │ 2271493      ┆ 607656330001 ┆ 351911607656 ┆ 158445      ┆ … ┆ 6.39        ┆ 123.89      ┆ Não Se      ┆ NÃO         │\n",
       " │              ┆ 12           ┆ 33000112     ┆             ┆   ┆             ┆             ┆ Aplica      ┆             │\n",
       " │ 2260433      ┆ 607656330001 ┆ 351911607656 ┆ 151911      ┆ … ┆ 6.39        ┆ 129.9       ┆ Não Se      ┆ NÃO         │\n",
       " │              ┆ 12           ┆ 33000112     ┆             ┆   ┆             ┆             ┆ Aplica      ┆             │\n",
       " │ 2260452      ┆ 607656330001 ┆ 351911607656 ┆ 151445      ┆ … ┆ 6.39        ┆ 128.9       ┆ Não Se      ┆ NÃO         │\n",
       " │              ┆ 12           ┆ 33000112     ┆             ┆   ┆             ┆             ┆ Aplica      ┆             │\n",
       " │ 2271379      ┆ 607656330001 ┆ 351911607656 ┆ 156949      ┆ … ┆ 6.39        ┆ 123.89      ┆ Não Se      ┆ NÃO         │\n",
       " │              ┆ 12           ┆ 33000112     ┆             ┆   ┆             ┆             ┆ Aplica      ┆             │\n",
       " │ 2308681      ┆ 607656330001 ┆ 351911607656 ┆ 160835      ┆ … ┆ 6.39        ┆ 113.89      ┆ Não Se      ┆ NÃO         │\n",
       " │              ┆ 12           ┆ 33000112     ┆             ┆   ┆             ┆             ┆ Aplica      ┆             │\n",
       " │ …            ┆ …            ┆ …            ┆ …           ┆ … ┆ …           ┆ …           ┆ …           ┆ …           │\n",
       " │ 2244873      ┆ 156441800019 ┆ 521911015644 ┆ 26467       ┆ … ┆ 3.98        ┆ 49.9        ┆ Não Se      ┆ NÃO         │\n",
       " │              ┆ 4            ┆ 18000194     ┆             ┆   ┆             ┆             ┆ Aplica      ┆             │\n",
       " │ 2237781      ┆ 408064600018 ┆ 351910040806 ┆ 108935      ┆ … ┆ 7.26        ┆ 69.99       ┆ Não Se      ┆ NÃO         │\n",
       " │              ┆ 7            ┆ 46000500     ┆             ┆   ┆             ┆             ┆ Aplica      ┆             │\n",
       " │ 2238756      ┆ 408064600018 ┆ 351911040806 ┆ 121573      ┆ … ┆ 7.26        ┆ 123.85      ┆ Não Se      ┆ NÃO         │\n",
       " │              ┆ 7            ┆ 46000500     ┆             ┆   ┆             ┆             ┆ Aplica      ┆             │\n",
       " │ 2234181      ┆ 156441800019 ┆ 531911015644 ┆ 19545       ┆ … ┆ 0.49        ┆ 49.9        ┆ Não Se      ┆ NÃO         │\n",
       " │              ┆ 4            ┆ 18000437     ┆             ┆   ┆             ┆             ┆ Aplica      ┆             │\n",
       " │ 2244904      ┆ 156441800019 ┆ 531911015644 ┆ 21855       ┆ … ┆ 0.49        ┆ 55.0        ┆ Não Se      ┆ NÃO         │\n",
       " │              ┆ 4            ┆ 18000437     ┆             ┆   ┆             ┆             ┆ Aplica      ┆             │\n",
       " └──────────────┴──────────────┴──────────────┴─────────────┴───┴─────────────┴─────────────┴─────────────┴─────────────┘,\n",
       " shape: (3_011_112, 26)\n",
       " ┌──────────────┬──────────────┬──────────────┬─────────────┬───┬─────────────┬─────────────┬─────────────┬─────────────┐\n",
       " │ codigo_viage ┆ cnpj         ┆ numero_equip ┆ numero_bilh ┆ … ┆ valor_taxa_ ┆ valor_total ┆ origem_emis ┆ in_passagem │\n",
       " │ m            ┆ ---          ┆ amento_fisca ┆ ete         ┆   ┆ embarque    ┆ ---         ┆ sao         ┆ _cancelada  │\n",
       " │ ---          ┆ i64          ┆ l            ┆ ---         ┆   ┆ ---         ┆ f64         ┆ ---         ┆ ---         │\n",
       " │ i64          ┆              ┆ ---          ┆ i64         ┆   ┆ f64         ┆             ┆ str         ┆ str         │\n",
       " │              ┆              ┆ str          ┆             ┆   ┆             ┆             ┆             ┆             │\n",
       " ╞══════════════╪══════════════╪══════════════╪═════════════╪═══╪═════════════╪═════════════╪═════════════╪═════════════╡\n",
       " │ 2355826      ┆ 300693140001 ┆ 331912300693 ┆ 3683057     ┆ … ┆ 6.14        ┆ 123.99      ┆ Não Se      ┆ NÃO         │\n",
       " │              ┆ 01           ┆ 14000101     ┆             ┆   ┆             ┆             ┆ Aplica      ┆             │\n",
       " │ 2410799      ┆ 300693140001 ┆ 331912300693 ┆ 4111198     ┆ … ┆ 6.14        ┆ 116.0       ┆ Não Se      ┆ NÃO         │\n",
       " │              ┆ 01           ┆ 14000101     ┆             ┆   ┆             ┆             ┆ Aplica      ┆             │\n",
       " │ 2382193      ┆ 300693140001 ┆ 331912300693 ┆ 3758997     ┆ … ┆ 6.14        ┆ 125.99      ┆ Não Se      ┆ NÃO         │\n",
       " │              ┆ 01           ┆ 14000101     ┆             ┆   ┆             ┆             ┆ Aplica      ┆             │\n",
       " │ 2329070      ┆ 300693140001 ┆ 331911300693 ┆ 3288636     ┆ … ┆ 6.14        ┆ 69.0        ┆ Não Se      ┆ NÃO         │\n",
       " │              ┆ 01           ┆ 14000101     ┆             ┆   ┆             ┆             ┆ Aplica      ┆             │\n",
       " │ 2335327      ┆ 610840180001 ┆ 311912610840 ┆ 395145      ┆ … ┆ 5.25        ┆ 175.99      ┆ Não Se      ┆ NÃO         │\n",
       " │              ┆ 03           ┆ 18004877     ┆             ┆   ┆             ┆             ┆ Aplica      ┆             │\n",
       " │ …            ┆ …            ┆ …            ┆ …           ┆ … ┆ …           ┆ …           ┆ …           ┆ …           │\n",
       " │ 2318211      ┆ 156441800019 ┆ 521912015644 ┆ 31110       ┆ … ┆ 3.98        ┆ 55.0        ┆ Não Se      ┆ NÃO         │\n",
       " │              ┆ 4            ┆ 18000194     ┆             ┆   ┆             ┆             ┆ Aplica      ┆             │\n",
       " │ 2343521      ┆ 156441800019 ┆ 521912015644 ┆ 32315       ┆ … ┆ 3.98        ┆ 55.0        ┆ Não Se      ┆ NÃO         │\n",
       " │              ┆ 4            ┆ 18000194     ┆             ┆   ┆             ┆             ┆ Aplica      ┆             │\n",
       " │ 2318190      ┆ 156441800019 ┆ 521912015644 ┆ 30663       ┆ … ┆ 3.98        ┆ 55.0        ┆ Não Se      ┆ NÃO         │\n",
       " │              ┆ 4            ┆ 18000194     ┆             ┆   ┆             ┆             ┆ Aplica      ┆             │\n",
       " │ 2318185      ┆ 156441800019 ┆ 521912015644 ┆ 30409       ┆ … ┆ 3.98        ┆ 55.0        ┆ Não Se      ┆ NÃO         │\n",
       " │              ┆ 4            ┆ 18000194     ┆             ┆   ┆             ┆             ┆ Aplica      ┆             │\n",
       " │ 2318212      ┆ 156441800019 ┆ 521912015644 ┆ 31110       ┆ … ┆ 3.98        ┆ 55.0        ┆ Não Se      ┆ NÃO         │\n",
       " │              ┆ 4            ┆ 18000194     ┆             ┆   ┆             ┆             ┆ Aplica      ┆             │\n",
       " └──────────────┴──────────────┴──────────────┴─────────────┴───┴─────────────┴─────────────┴─────────────┴─────────────┘]"
      ]
     },
     "metadata": {},
     "output_type": "display_data"
    }
   ],
   "source": [
    "#Leitura dos arquivos compactados\n",
    "dfs = []\n",
    "\n",
    "for arquivo_pqt in arquivos_pqt:\n",
    "    caminho_arquivo_pqt = os.path.join(diretorio_parquet, arquivo_pqt)\n",
    "    df = pl.read_parquet(caminho_arquivo_pqt)\n",
    "    dfs.append(df)\n",
    "    \n",
    "display(dfs)"
   ]
  },
  {
   "cell_type": "code",
   "execution_count": 16,
   "id": "3039dba1",
   "metadata": {},
   "outputs": [
    {
     "name": "stdout",
     "output_type": "stream",
     "text": [
      "CPU times: total: 13.4 s\n",
      "Wall time: 5.58 s\n"
     ]
    }
   ],
   "source": [
    "#Tempo de execução\n",
    "%time dfs = pl.read_csv(caminho_completo, separator=';', ignore_errors = True, schema=None, truncate_ragged_lines=True)"
   ]
  },
  {
   "cell_type": "code",
   "execution_count": null,
   "id": "88408e4a",
   "metadata": {},
   "outputs": [],
   "source": []
  }
 ],
 "metadata": {
  "kernelspec": {
   "display_name": "Python 3 (ipykernel)",
   "language": "python",
   "name": "python3"
  },
  "language_info": {
   "codemirror_mode": {
    "name": "ipython",
    "version": 3
   },
   "file_extension": ".py",
   "mimetype": "text/x-python",
   "name": "python",
   "nbconvert_exporter": "python",
   "pygments_lexer": "ipython3",
   "version": "3.11.5"
  }
 },
 "nbformat": 4,
 "nbformat_minor": 5
}
